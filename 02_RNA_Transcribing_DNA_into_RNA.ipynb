{
 "cells": [
  {
   "cell_type": "markdown",
   "metadata": {},
   "source": [
    "# Transcribing DNA into RNA\n",
    "## Problem\n",
    "\n",
    "An RNA string is a string formed from the alphabet containing 'A', 'C', 'G', and 'U'.\n",
    "\n",
    "Given a DNA string t\n",
    "corresponding to a coding strand, its transcribed RNA string u is formed by replacing all occurrences of 'T' in t with 'U' in u\n",
    "\n",
    ".\n",
    "\n",
    "Given: A DNA string t\n",
    "\n",
    "having length at most 1000 nt.\n",
    "\n",
    "Return: The transcribed RNA string of t\n",
    ".\n",
    "\n",
    "### Sample Dataset\n",
    "GATGGAACTTGACTACGTAAATT\n",
    "### Sample Output\n",
    "GAUGGAACUUGACUACGUAAAUU"
   ]
  },
  {
   "cell_type": "code",
   "execution_count": 31,
   "metadata": {},
   "outputs": [
    {
     "name": "stdout",
     "output_type": "stream",
     "text": [
      "GATGGAACTTGACTACGTAAATT\n"
     ]
    }
   ],
   "source": [
    "t = \"TGTGCTTTTACATCAAGTACACTACGACGAGATTCCCTACCGGTGTCCAGCACTCAAAGCAACGGTATGCCATAATATAATTAGCCGATCAGGCTGTCACAGAATCCCCACAAAACTGCCCTACCGAGAGACAAGTCGGACATCCCCAGTTCCTCAGGCCGGTTTAGAAACGTGGTCCACCGTAACCTGTACAGCAGGCAGCAGCCCATTGATATACGTAAAATCGCCAGATATCGGTGCAGCTTGGGGAAGTGCGAGGCGCGCATACTTTCGAACTACGTAAAAGCGTTCTTCCGGACGTCCGCCCTCTCAGAACTGGGCGGAAAATACTTATGGTTGCATCGGCCGACGAAAGCTACACCTGCCCAGCATCGCATGACTGGCGCCATTGCTTAGGTCCAGTCCTAGACTACAGTCAGAATTTGAAGGCTCAAAATAACATCCTTAGGAGACGTATAGTCCCAGCAACTCATAGTGATCGGCGACGCTATAGCCTCGCGTTTGTATGAACATAGATGGCATGAGACTCGAGGCGGACGAGATTTAGGTCCAAGACTGTATCTTCACGAATGTCCCGTTCAGCACGCCATAACAGGTACCGAACGTCCGGTTACATTAGATTGTTTGGGGTCGTCCGGGGGCAACCAAGTCAGGAGGCGGCAGTATTTATGAAATGAACTCCAAGCTCAAGATGAGCAACCATCCATATATCGGGGATAAGCGACTGAGACTATAGCAGGAATATCATCTCGTGGCGGCGGTTCGGCTAAACGCATGAGGCAGGATCAAGGTAATATAGTAGTAGTTACATGTACGGGACAGGTAGGTTCGCAAGGTCGATCTTGGGACGGCTGTCCGATGTACGTTTAGCGAGTGTGGGTCAAGGAAACGGCACGACCCTTCATCTGCATTATTGTCCGCTCAACTTAGAGAAGATGGCAGGGGGGCCACGC\"\n",
    "\n",
    "for i in t:\n",
    "    if i == 'T':\n",
    "        t = t.replace('T', 'U')\n",
    "print(t)"
   ]
  }
 ],
 "metadata": {
  "kernelspec": {
   "display_name": "Python 3",
   "language": "python",
   "name": "python3"
  },
  "language_info": {
   "codemirror_mode": {
    "name": "ipython",
    "version": 3
   },
   "file_extension": ".py",
   "mimetype": "text/x-python",
   "name": "python",
   "nbconvert_exporter": "python",
   "pygments_lexer": "ipython3",
   "version": "3.7.3"
  }
 },
 "nbformat": 4,
 "nbformat_minor": 2
}
