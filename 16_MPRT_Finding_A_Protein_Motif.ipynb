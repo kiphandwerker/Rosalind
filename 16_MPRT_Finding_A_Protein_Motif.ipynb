{
 "cells": [
  {
   "cell_type": "markdown",
   "metadata": {},
   "source": [
    "# Finding a Protein Motif\n",
    "\n",
    "## Problem\n",
    "\n",
    "To allow for the presence of its varying forms, a protein motif is represented by a shorthand as follows: [XY] means \"either X or Y\" and {X} means \"any amino acid except X.\" For example, the N-glycosylation motif is written as N{P}[ST]{P}.\n",
    "\n",
    "You can see the complete description and features of a particular protein by its access ID \"uniprot_id\" in the UniProt database, by inserting the ID number into\n",
    "\n",
    "    http://www.uniprot.org/uniprot/uniprot_id\n",
    "    \n",
    "Alternatively, you can obtain a protein sequence in FASTA format by following  \n",
    "\n",
    "    http://www.uniprot.org/uniprot/uniprot_id.fasta\n",
    "    \n",
    "### Given\n",
    "At most 15 UniProt Protein Database access IDs.\n",
    "### Return\n",
    " For each protein possessing the N-glycosylation motif, output its given access ID followed by a list of locations in the protein string where the motif can be found.\n",
    " \n",
    "### Sample Dataset\n",
    ">A2Z669 <br>\n",
    "B5ZC00 <br>\n",
    "P07204_TRBM_HUMAN <br>\n",
    "P20840_SAG1_YEAST <br>\n",
    "### Sampe Output\n",
    ">B5ZC00<br>\n",
    "85 118 142 306 395<br>\n",
    "P07204_TRBM_HUMAN<br>\n",
    "47 115 116 382 409<br>\n",
    "P20840_SAG1_YEAST<br>\n",
    "79 109 135 248 306 348 364 402 485 501 614\n"
   ]
  },
  {
   "cell_type": "code",
   "execution_count": 1,
   "metadata": {},
   "outputs": [],
   "source": [
    "def MPRT(file):\n",
    "    AccessID = []\n",
    "\n",
    "    with open(file) as ds:\n",
    "        for i in ds:\n",
    "            AccessID.append(i.strip())\n",
    "\n",
    "    from urllib.request import urlopen                            \n",
    "    from Bio import SeqIO                                         \n",
    "    import re\n",
    "    for i in range(len(AccessID)):\n",
    "        url = 'http://www.uniprot.org/uniprot/' + AccessID[i] + '.fasta'\n",
    "        dataset = urlopen(url)\n",
    "        fasta = dataset.read().decode('utf-8', 'ignore')\n",
    "\n",
    "        with open('seq_file.fasta', 'a') as tf:\n",
    "            tf.write(fasta)\n",
    "\n",
    "    motif = re.compile(r'(?=(N[^P][ST][^P]))')\n",
    "    handle = open('seq_file.fasta','r')\n",
    "    c = 0\n",
    "    try:\n",
    "        for r in SeqIO.parse(handle, 'fasta'):\n",
    "            seq = r.seq\n",
    "            pos = []\n",
    "\n",
    "            for m in re.finditer(motif, str(seq)):\n",
    "                pos.append(m.start() + 1)\n",
    "            if len(pos) > 0:\n",
    "                print(AccessID[c])\n",
    "                print(' '.join(map(str, pos)))\n",
    "            c += 1\n",
    "    except IndexError:\n",
    "        pass\n",
    "\n",
    "    tf.close()\n",
    "    handle.close() "
   ]
  },
  {
   "cell_type": "code",
   "execution_count": 2,
   "metadata": {},
   "outputs": [
    {
     "name": "stdout",
     "output_type": "stream",
     "text": [
      "B5ZC00\n",
      "85 118 142 306 395\n",
      "P07204_TRBM_HUMAN\n",
      "47 115 116 382 409\n",
      "P20840_SAG1_YEAST\n",
      "79 109 135 248 306 348 364 402 485 501 614\n"
     ]
    }
   ],
   "source": [
    "MPRT('/home/kip/Downloads/sampledataset.txt')"
   ]
  }
 ],
 "metadata": {
  "kernelspec": {
   "display_name": "Python 3",
   "language": "python",
   "name": "python3"
  },
  "language_info": {
   "codemirror_mode": {
    "name": "ipython",
    "version": 3
   },
   "file_extension": ".py",
   "mimetype": "text/x-python",
   "name": "python",
   "nbconvert_exporter": "python",
   "pygments_lexer": "ipython3",
   "version": "3.7.3"
  }
 },
 "nbformat": 4,
 "nbformat_minor": 2
}
