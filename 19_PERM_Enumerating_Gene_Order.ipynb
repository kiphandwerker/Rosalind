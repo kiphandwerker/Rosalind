{
 "cells": [
  {
   "cell_type": "markdown",
   "metadata": {},
   "source": [
    "# Enumerating Gene Orders\n",
    "\n",
    "## Problem\n",
    "    A permutation of length n is an ordering of the positive integers {1,2,…,n}. For example, π=(5,3,2,1,4) is a permutation of length 5.\n",
    "\n",
    "### Given: \n",
    "    A positive integer n≤7\n",
    "\n",
    "### Return: \n",
    "    The total number of permutations of length n, followed by a list of all such permutations (in any order).\n",
    "    \n",
    "### Sample Dataset\n",
    ">3\n",
    "### Sample Output\n",
    ">6 <br>\n",
    ">1 2 3 <br>\n",
    ">1 3 2 <br>\n",
    ">2 1 3 <br>\n",
    ">2 3 1 <br>\n",
    ">3 1 2 <br>\n",
    ">3 2 1"
   ]
  },
  {
   "cell_type": "code",
   "execution_count": 1,
   "metadata": {},
   "outputs": [
    {
     "name": "stdout",
     "output_type": "stream",
     "text": [
      "6\n",
      "(1, 2, 3)\n",
      "(1, 3, 2)\n",
      "(2, 1, 3)\n",
      "(2, 3, 1)\n",
      "(3, 1, 2)\n",
      "(3, 2, 1)\n"
     ]
    }
   ],
   "source": [
    "import itertools as it\n",
    "\n",
    "def PERM(num, output=False):\n",
    "    a = list(it.permutations(range(1,num+1)))\n",
    "    print(len(a))\n",
    "    for item in a:\n",
    "        print(item)\n",
    "    if output == 'No':\n",
    "        pass\n",
    "    if output:\n",
    "        with open(\"/home/kip/Downloads/19_PERM_Results\", 'w') as output:\n",
    "            output.write(str(len(a))+'\\n')\n",
    "            for row in a:\n",
    "                output.write(str(row).strip(\"(,)\").replace(\",\",\"\") + '\\n')\n",
    "        \n",
    "PERM(3)"
   ]
  },
  {
   "cell_type": "code",
   "execution_count": null,
   "metadata": {},
   "outputs": [],
   "source": []
  }
 ],
 "metadata": {
  "kernelspec": {
   "display_name": "Python 3",
   "language": "python",
   "name": "python3"
  },
  "language_info": {
   "codemirror_mode": {
    "name": "ipython",
    "version": 3
   },
   "file_extension": ".py",
   "mimetype": "text/x-python",
   "name": "python",
   "nbconvert_exporter": "python",
   "pygments_lexer": "ipython3",
   "version": "3.7.3"
  }
 },
 "nbformat": 4,
 "nbformat_minor": 2
}
