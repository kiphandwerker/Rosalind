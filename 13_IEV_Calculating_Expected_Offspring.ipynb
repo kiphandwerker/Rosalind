{
 "cells": [
  {
   "cell_type": "markdown",
   "metadata": {},
   "source": [
    "# Calculating Expected Offspring\n",
    "## Problem\n",
    "\n",
    "For a random variable X\n",
    "taking integer values between 1 and n, the expected value of X is E(X)=∑nk=1k×Pr(X=k)\n",
    "\n",
    ". The expected value offers us a way of taking the long-term average of a random variable over a large number of trials.\n",
    "\n",
    "As a motivating example, let X\n",
    "be the number on a six-sided die. Over a large number of rolls, we should expect to obtain an average of 3.5 on the die (even though it's not possible to roll a 3.5). The formula for expected value confirms that E(X)=∑6k=1k×Pr(X=k)=3.5.\n",
    "\n",
    "\n",
    "More generally, a random variable for which every one of a number of equally spaced outcomes has the same probability is called a uniform random variable (in the die example, this \"equal spacing\" is equal to 1). We can generalize our die example to find that if X\n",
    "is a uniform random variable with minimum possible value a and maximum possible value b, then E(X)=a+b2. You may also wish to verify that for the dice example, if Y is the random variable associated with the outcome of a second die roll, then E(X+Y)=7.\n",
    "\n",
    "\n",
    "Given: Six nonnegative integers, each of which does not exceed 20,000. The integers correspond to the number of couples in a population possessing each genotype pairing for a given factor. In order, the six given integers represent the number of couples having the following genotypes:\n",
    "\n",
    "    AA-AA\n",
    "    AA-Aa\n",
    "    AA-aa\n",
    "    Aa-Aa\n",
    "    Aa-aa\n",
    "    aa-aa\n",
    "\n",
    "Return: The expected number of offspring displaying the dominant phenotype in the next generation, under the assumption that every couple has exactly two offspring.\n",
    "\n",
    "### Sample Dataset\n",
    "> 1 0 0 1 0 1\n",
    "### Sample Output\n",
    "> 3.5"
   ]
  },
  {
   "cell_type": "code",
   "execution_count": 89,
   "metadata": {},
   "outputs": [
    {
     "data": {
      "text/plain": [
       "155774.0"
      ]
     },
     "execution_count": 89,
     "metadata": {},
     "output_type": "execute_result"
    }
   ],
   "source": [
    "filename = \"/home/kip/Downloads/rosalind_iev.txt\"\n",
    "\n",
    "with open(filename, 'r') as fh:\n",
    "    for line in fh:\n",
    "        dataset = list(map(int, line.rstrip(\"\\n\").split()))\n",
    "    fh.close()\n",
    "\n",
    "def expOffspring(d):\n",
    "    prob_dict = {}\n",
    "\n",
    "    for i in range(6):\n",
    "        if i <= 2 and d[i] > 0:      # AA-AA, AA-Aa, AA-aa\n",
    "            prob_dict[i] = d[i]*1\n",
    "        elif i == 3 and d[i] > 0:    # Aa-Aa\n",
    "            prob_dict[i] = d[i]*.75\n",
    "        elif i == 4 and d[i] > 0:    # Aa-aa\n",
    "            prob_dict[i] = d[i]*.5\n",
    "        else:                           # aa-aa\n",
    "            prob_dict[i] = 0\n",
    "\n",
    "    return 2*sum(prob_dict.values())\n",
    "\n",
    "expOffspring(dataset)"
   ]
  },
  {
   "cell_type": "code",
   "execution_count": null,
   "metadata": {},
   "outputs": [],
   "source": []
  }
 ],
 "metadata": {
  "kernelspec": {
   "display_name": "Python 3",
   "language": "python",
   "name": "python3"
  },
  "language_info": {
   "codemirror_mode": {
    "name": "ipython",
    "version": 3
   },
   "file_extension": ".py",
   "mimetype": "text/x-python",
   "name": "python",
   "nbconvert_exporter": "python",
   "pygments_lexer": "ipython3",
   "version": "3.7.3"
  }
 },
 "nbformat": 4,
 "nbformat_minor": 2
}
