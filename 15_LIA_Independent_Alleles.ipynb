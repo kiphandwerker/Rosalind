{
 "cells": [
  {
   "cell_type": "markdown",
   "metadata": {},
   "source": [
    "# Independent Alleles\n",
    "\n",
    "## Probability:\n",
    "    Pr(X+Y is odd)=Pr(X is even and Y is odd)+Pr(X is odd and Y is even). Using independence, this becomes [Pr(X is even)×Pr(Y is odd)]+[Pr(X is odd)×Pr(Y is even)]\n",
    "\n",
    "## Given: \n",
    "    Two positive integers k (k≤7) and N (N≤2^k). In this problem, we begin with Tom, who in the 0th generation has genotype Aa Bb. Tom has two children in the 1st generation, each of whom has two children, and so on. Each organism always mates with an organism having genotype Aa Bb.\n",
    "\n",
    "## Return:\n",
    "    he probability that at least N Aa Bb organisms will belong to the k-th generation of Tom's family tree (don't count the Aa Bb mates at each level). Assume that Mendel's second law holds for the factors.\n",
    "    \n",
    " ### Sample Dataset:\n",
    " > 2 1\n",
    " \n",
    " ### Sample Output:\n",
    " > 0.684"
   ]
  },
  {
   "cell_type": "code",
   "execution_count": 1,
   "metadata": {},
   "outputs": [
    {
     "name": "stdout",
     "output_type": "stream",
     "text": [
      "0.68359375\n"
     ]
    }
   ],
   "source": [
    "def IndepAlleles(k, n):\n",
    "    import math \n",
    "    P = 2**k\n",
    "    probability = 0                                                                \n",
    "    for i in range(n, P + 1):                                                      \n",
    "        prob = (math.factorial(P) /                                                \n",
    "                (math.factorial(i) * math.factorial(P - i))\n",
    "               ) * (0.25**i) * (0.75**(P - i))                                                        \n",
    "        probability += prob                                                        \n",
    "    print(probability)\n",
    "    \n",
    "IndepAlleles(2,1)"
   ]
  }
 ],
 "metadata": {
  "kernelspec": {
   "display_name": "Python 3",
   "language": "python",
   "name": "python3"
  },
  "language_info": {
   "codemirror_mode": {
    "name": "ipython",
    "version": 3
   },
   "file_extension": ".py",
   "mimetype": "text/x-python",
   "name": "python",
   "nbconvert_exporter": "python",
   "pygments_lexer": "ipython3",
   "version": "3.7.3"
  }
 },
 "nbformat": 4,
 "nbformat_minor": 2
}
