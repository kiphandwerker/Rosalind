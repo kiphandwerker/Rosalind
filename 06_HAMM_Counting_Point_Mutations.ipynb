{
 "cells": [
  {
   "cell_type": "markdown",
   "metadata": {},
   "source": [
    "# Counting Point Mutations\n",
    "## Problem\n",
    "Figure 2. The Hamming distance between these two strings is 7. Mismatched symbols are colored red.\n",
    "\n",
    "Given two strings s\n",
    "and t of equal length, the Hamming distance between s and t, denoted dH(s,t), is the number of corresponding symbols that differ in s and t\n",
    "\n",
    ". See Figure 2.\n",
    "\n",
    "Given: Two DNA strings s\n",
    "and t\n",
    "\n",
    "of equal length (not exceeding 1 kbp).\n",
    "\n",
    "Return: The Hamming distance dH(s,t)\n",
    "\n",
    ".\n",
    "### Sample Dataset\n",
    "GAGCCTACTAACGGGAT<br>\n",
    "CATCGTAATGACGGCCT\n",
    "### Sample Output\n",
    "7"
   ]
  },
  {
   "cell_type": "code",
   "execution_count": 23,
   "metadata": {},
   "outputs": [
    {
     "name": "stdout",
     "output_type": "stream",
     "text": [
      "58.82% Match\n",
      "41.18% Mismatch\n",
      "7 Mismatches found \n",
      "\n",
      "GAGCCTACTAACGGGAT\n",
      "| | |  | |    || \n",
      "CATCGTAATGACGGCCT\n",
      "\n"
     ]
    }
   ],
   "source": [
    "def openfile(seq):\n",
    "    f = open(seq, 'r')\n",
    "    raw_data = f.readline().rstrip()\n",
    "    f.close()\n",
    "    return raw_data\n",
    "\n",
    "\n",
    "class SeqMatch:\n",
    "    def __init__(self, seq_a, seq_b):\n",
    "        \n",
    "        self.seq_a = seq_a\n",
    "        self.seq_b = seq_b\n",
    "\n",
    "        len1 = len(self.seq_a)\n",
    "        len2 = len(self.seq_b)\n",
    "        self.mismatches = []\n",
    "        self.x = 0\n",
    "\n",
    "        for pos in range(0, min(len1,len2)) :\n",
    "            if seq_a[pos] != seq_b[pos]:\n",
    "                self.mismatches.append('|')\n",
    "                self.x += 1\n",
    "            else:\n",
    "                self.mismatches.append(' ')\n",
    "\n",
    "        self.MM = round((self.x / len1)*100, 2)\n",
    "        self.M = round(100 - self.MM,2)\n",
    "\n",
    "        print(f'{self.M}% Match')\n",
    "        print(f'{self.MM}% Mismatch')\n",
    "        print(f'{self.x} Mismatches found \\n')\n",
    "        \n",
    "    def show(self):        \n",
    "        th = {'sq1':self.seq_a,'mis':\"\".join(self.mismatches),'sq2':self.seq_b}    \n",
    "            \n",
    "        line_length = 100\n",
    "        value_length = len(next(iter(th.values())))\n",
    "\n",
    "        count = 0\n",
    "        while count * line_length < value_length:\n",
    "            for value in th.values():\n",
    "                print(value[count * line_length: (count + 1) * line_length])\n",
    "            print()\n",
    "            count += 1\n",
    "\n",
    "#a = openfile(\"/home/kip/Downloads/rand_seq1.txt\")\n",
    "#b = openfile(\"/home/kip/Downloads/rand_seq2.txt\")\n",
    "a = 'GAGCCTACTAACGGGAT'\n",
    "b = 'CATCGTAATGACGGCCT'\n",
    "SeqMatch(a,b).show()\n",
    "\n",
    "\n"
   ]
  }
 ],
 "metadata": {
  "kernelspec": {
   "display_name": "Python 3",
   "language": "python",
   "name": "python3"
  },
  "language_info": {
   "codemirror_mode": {
    "name": "ipython",
    "version": 3
   },
   "file_extension": ".py",
   "mimetype": "text/x-python",
   "name": "python",
   "nbconvert_exporter": "python",
   "pygments_lexer": "ipython3",
   "version": "3.7.3"
  }
 },
 "nbformat": 4,
 "nbformat_minor": 2
}
