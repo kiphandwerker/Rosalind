{
 "cells": [
  {
   "cell_type": "markdown",
   "metadata": {},
   "source": [
    "# Open Reading Frames\n",
    "\n",
    "## Problem\n",
    "    Either strand of a DNA double helix can serve as the coding strand for RNA transcription. Hence, a given DNA string implies six total reading frames, or ways in which the same region of DNA can be translated into amino acids: three reading frames result from reading the string itself, whereas three more result from reading its reverse complement.\n",
    "\n",
    "    An open reading frame (ORF) is one which starts from the start codon and ends by stop codon, without any other stop codons in between. Thus, a candidate protein string is derived by translating an open reading frame into amino acids until a stop codon is reached.\n",
    "    \n",
    "### Given\n",
    "    A DNA string s of length at most 1 kbp in FASTA format.\n",
    "### Return\n",
    "    Every distinct candidate protein string that can be translated from ORFs of s. Strings can be returned in any order.\n",
    "    \n",
    "### Sample Dataset\n",
    ">Rosalind_99<br>\n",
    "AGCCATGTAGCTAACTCAGGTTACATGGGGATGACCCCGCGACTTGG<br>ATTAGAGTCTCTTTTGGAATAAGCCTGAATGATCCGAGTAGCATCTCAG\n",
    "\n",
    "### Sample Output\n",
    ">MLLGSFRLIPKETLIQVAGSSPCNLS<br>\n",
    ">M<br>\n",
    ">MGMTPRLGLESLLE<br>\n",
    ">MTPRLGLESLLE\n"
   ]
  },
  {
   "cell_type": "code",
   "execution_count": 1,
   "metadata": {},
   "outputs": [],
   "source": [
    "DNA_CODON_TABLE = {\n",
    "    'TTT': 'F',     'CTT': 'L',     'ATT': 'I',     'GTT': 'V',\n",
    "    'TTC': 'F',     'CTC': 'L',     'ATC': 'I',     'GTC': 'V',\n",
    "    'TTA': 'L',     'CTA': 'L',     'ATA': 'I',     'GTA': 'V',\n",
    "    'TTG': 'L',     'CTG': 'L',     'ATG': 'M',     'GTG': 'V',\n",
    "    'TCT': 'S',     'CCT': 'P',     'ACT': 'T',     'GCT': 'A',\n",
    "    'TCC': 'S',     'CCC': 'P',     'ACC': 'T',     'GCC': 'A',\n",
    "    'TCA': 'S',     'CCA': 'P',     'ACA': 'T',     'GCA': 'A',\n",
    "    'TCG': 'S',     'CCG': 'P',     'ACG': 'T',     'GCG': 'A',\n",
    "    'TAT': 'Y',     'CAT': 'H',     'AAT': 'N',     'GAT': 'D',\n",
    "    'TAC': 'Y',     'CAC': 'H',     'AAC': 'N',     'GAC': 'D',\n",
    "    'TAA': 'Stop',  'CAA': 'Q',     'AAA': 'K',     'GAA': 'E',\n",
    "    'TAG': 'Stop',  'CAG': 'Q',     'AAG': 'K',     'GAG': 'E',\n",
    "    'TGT': 'C',     'CGT': 'R',     'AGT': 'S',     'GGT': 'G',\n",
    "    'TGC': 'C',     'CGC': 'R',     'AGC': 'S',     'GGC': 'G',\n",
    "    'TGA': 'Stop',  'CGA': 'R',     'AGA': 'R',     'GGA': 'G',\n",
    "    'TGG': 'W',     'CGG': 'R',     'AGG': 'R',     'GGG': 'G'\n",
    "}"
   ]
  },
  {
   "cell_type": "code",
   "execution_count": 1,
   "metadata": {},
   "outputs": [],
   "source": [
    "import re                                                 \n",
    "from Bio import SeqIO                                     \n",
    "from Bio.Seq import Seq                                   \n",
    "from Bio.Alphabet import generic_dna                      \n",
    "\n",
    "def ORF(file):\n",
    "    record = SeqIO.read(file, 'fasta')          \n",
    "    pattern = re.compile(r'(?=(ATG(?:...)*?)(?=TAG|TGA|TAA))')\n",
    "    FRWD = record.seq                                      \n",
    "    REV = FRWD.reverse_complement()                    \n",
    "    sequences = []                                            \n",
    "\n",
    "    for m in re.findall(pattern, str(FRWD)):               \n",
    "        dna_seq = Seq(m, generic_dna)                         \n",
    "        prot_seq = dna_seq.translate()                        \n",
    "        if prot_seq not in sequences:                         \n",
    "            sequences.append(prot_seq)\n",
    "            \n",
    "    for n in re.findall(pattern, str(REV)):               \n",
    "        rev_dna_seq = Seq(n, generic_dna)                     \n",
    "        rev_prot_seq = rev_dna_seq.translate()                \n",
    "        if rev_prot_seq not in sequences:                     \n",
    "            sequences.append(rev_prot_seq)                    \n",
    "\n",
    "    for i, s in enumerate(sequences):                         \n",
    "        print(s)                         "
   ]
  },
  {
   "cell_type": "code",
   "execution_count": 5,
   "metadata": {},
   "outputs": [
    {
     "name": "stdout",
     "output_type": "stream",
     "text": [
      "MDDRFTTCYLGRRVSLHITKSIVLPSDPRVKDKNLPYLSHCP\n",
      "MMAERCLPAIPGFLI\n",
      "MAERCLPAIPGFLI\n",
      "MFAGYTRFSYLTHSALLSKPQHSNGTLTRMINI\n",
      "MEL\n",
      "MINI\n",
      "MGHACCRLTERVSRWH\n",
      "MRAVD\n",
      "MALRHD\n",
      "MYIWHRP\n",
      "M\n",
      "MVCST\n",
      "MPHSLERVVRRVCEVSSLIIVGVPLHRLGNPTSDAAAVMHKLTRRTEVLAHAATFSIE\n",
      "MQRRSCINLPGGQRYSPMQPRSQ\n",
      "MHKLTRRTEVLAHAATFSIE\n",
      "MQPRSQ\n",
      "MRITRG\n",
      "MSC\n",
      "MGEYLCPPGKFMHDRRCITSRVT\n",
      "MHDRRCITSRVT\n",
      "MTAAASLVGLPNRCRGTPTMIKDETSHTRRTTRSRLWGMPLGRTHHCTGPGEGESNSTNDTPLHCGSERSDLNVYLAPSLNTLASVFRDGAKYT\n",
      "MIKDETSHTRRTTRSRLWGMPLGRTHHCTGPGEGESNSTNDTPLHCGSERSDLNVYLAPSLNTLASVFRDGAKYT\n",
      "MGHAPR\n",
      "MPLGRTHHCTGPGEGESNSTNDTPLHCGSERSDLNVYLAPSLNTLASVFRDGAKYT\n",
      "MTRLYIAGVSGLT\n",
      "MTSWITTSRASMPS\n",
      "MPS\n",
      "MSHLRRKHLSARCCKKGYLNIYHPS\n",
      "ML\n",
      "MIRAQLVSFRGSVTDKASFYP\n",
      "MDFVMCKETLRPK\n",
      "MCKETLRPK\n"
     ]
    }
   ],
   "source": [
    "ORF('/home/kip/Downloads/rosalind_orf.txt')"
   ]
  }
 ],
 "metadata": {
  "kernelspec": {
   "display_name": "Python 3",
   "language": "python",
   "name": "python3"
  },
  "language_info": {
   "codemirror_mode": {
    "name": "ipython",
    "version": 3
   },
   "file_extension": ".py",
   "mimetype": "text/x-python",
   "name": "python",
   "nbconvert_exporter": "python",
   "pygments_lexer": "ipython3",
   "version": "3.7.3"
  }
 },
 "nbformat": 4,
 "nbformat_minor": 2
}
