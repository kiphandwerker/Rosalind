{
 "cells": [
  {
   "cell_type": "markdown",
   "metadata": {},
   "source": [
    "# Finding a Shared Motif\n",
    "## Problem\n",
    "\n",
    "A common substring of a collection of strings is a substring of every member of the collection. We say that a common substring is a longest common substring if there does not exist a longer common substring. For example, \"CG\" is a common substring of \"ACGTACGT\" and \"AACCGTATA\", but it is not as long as possible; in this case, \"CGTA\" is a longest common substring of \"ACGTACGT\" and \"AACCGTATA\".\n",
    "\n",
    "Note that the longest common substring is not necessarily unique; for a simple example, \"AA\" and \"CC\" are both longest common substrings of \"AACC\" and \"CCAA\".\n",
    "\n",
    "Given: A collection of k\n",
    "(k≤100\n",
    "\n",
    ") DNA strings of length at most 1 kbp each in FASTA format.\n",
    "\n",
    "Return: A longest common substring of the collection. (If multiple solutions exist, you may return any single solution.)\n",
    "\n",
    "### Sample Dataset\n",
    "    Rosalind_1\n",
    "    GATTACA\n",
    "    Rosalind_2\n",
    "    TAGACCA\n",
    "    Rosalind_3\n",
    "    ATACA\n",
    "### Sample Output\n",
    "    AC"
   ]
  },
  {
   "cell_type": "code",
   "execution_count": 43,
   "metadata": {},
   "outputs": [
    {
     "data": {
      "text/plain": [
       "'AACATACGACTGCGCGAAGAGCTGGCAGATGACAGTACCACAGAAGCAATTCTAGCGCACATCAGATTACCGTAGAGCACAAGGCGATATGTACACTGTAGATCGGTGAGTATCTCGGTGTTTGGAATGATCTCGAAGTTCATGAAGTGATTCTAGAACTGATAAGGCACGCCAACCTACTATGGAGCTCTGCTGCACTGGTGGTTTGGGGCAGGGGGCTGGCCA'"
      ]
     },
     "execution_count": 43,
     "metadata": {},
     "output_type": "execute_result"
    }
   ],
   "source": [
    "def FASFAparse(data):\n",
    "\n",
    "    f = open(data, 'r')\n",
    "    raw_data = f.readlines()\n",
    "    f.close()\n",
    "\n",
    "    motif_dict = {}\n",
    "    cur_key = ''\n",
    "\n",
    "    for i in raw_data:\n",
    "        if i[0] == '>':\n",
    "            cur_key = i[1:].rstrip()\n",
    "            motif_dict[cur_key] = '' \n",
    "        else:\n",
    "            motif_dict[cur_key] += i.rstrip()\n",
    "    \n",
    "    return motif_dict\n",
    "\n",
    "\n",
    "def long_substr(data):\n",
    "    substr = ''\n",
    "    if len(data) > 1 and len(data[0]) > 0:\n",
    "        for i in range(len(data[0])):\n",
    "            for j in range(len(data[0])-i+1):\n",
    "                if j > len(substr) and is_substr(data[0][i:i+j], data):\n",
    "                    substr = data[0][i:i+j]\n",
    "    return substr\n",
    "\n",
    "def is_substr(find, data):\n",
    "    if len(data) < 1 and len(find) < 1:\n",
    "        return False\n",
    "    for i in range(len(data)):\n",
    "        if find not in data[i]:\n",
    "            return False\n",
    "    return True\n",
    "\n",
    "dataset = FASFAparse(\"/home/kip/Downloads/rosalind_lcsm.txt\")\n",
    "\n",
    "sett = []\n",
    "for i,j in dataset.items():\n",
    "    sett.append(j)\n",
    "    \n",
    "long_substr(sett)"
   ]
  },
  {
   "cell_type": "code",
   "execution_count": null,
   "metadata": {},
   "outputs": [],
   "source": []
  }
 ],
 "metadata": {
  "kernelspec": {
   "display_name": "Python 3",
   "language": "python",
   "name": "python3"
  },
  "language_info": {
   "codemirror_mode": {
    "name": "ipython",
    "version": 3
   },
   "file_extension": ".py",
   "mimetype": "text/x-python",
   "name": "python",
   "nbconvert_exporter": "python",
   "pygments_lexer": "ipython3",
   "version": "3.7.3"
  }
 },
 "nbformat": 4,
 "nbformat_minor": 2
}
