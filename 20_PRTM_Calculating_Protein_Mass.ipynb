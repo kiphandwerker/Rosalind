{
 "cells": [
  {
   "cell_type": "markdown",
   "metadata": {},
   "source": [
    "# Calculating Protein Mass\n",
    "\n",
    "## Problem\n",
    "    In a weighted alphabet, every symbol is assigned a positive real number called a weight. A string formed from a weighted alphabet is called a weighted string, and its weight is equal to the sum of the weights of its symbols.\n",
    "    \n",
    "### Given\n",
    "    A protein string P of length at most 1000 aa.\n",
    "### Return\n",
    "    The total weight of P. Consult the monoisotopic mass table.\n",
    "    \n",
    "    \n",
    "### Sample Dataset\n",
    ">SKADYEK\n",
    "### Sample Output\n",
    ">821.392"
   ]
  },
  {
   "cell_type": "code",
   "execution_count": 4,
   "metadata": {},
   "outputs": [],
   "source": [
    "Monoisotopic_Mass_tb = {\n",
    "'A' : 71.03711,\n",
    "'C' : 103.00919,\n",
    "'D' : 115.02694,\n",
    "'E' : 129.04259,\n",
    "'F' : 147.06841,\n",
    "'G' : 57.02146,\n",
    "'H' : 137.05891,\n",
    "'I' : 113.08406,\n",
    "'K' : 128.09496,\n",
    "'L' : 113.08406,\n",
    "'M' : 131.04049,\n",
    "'N' : 114.04293,\n",
    "'P' : 97.05276,\n",
    "'Q' : 128.05858,\n",
    "'R' : 156.10111,\n",
    "'S' : 87.03203,\n",
    "'T' : 101.04768,\n",
    "'V' : 99.06841,\n",
    "'W' : 186.07931,\n",
    "'Y' : 163.06333 }"
   ]
  },
  {
   "cell_type": "code",
   "execution_count": 5,
   "metadata": {},
   "outputs": [
    {
     "data": {
      "text/plain": [
       "821.392"
      ]
     },
     "execution_count": 5,
     "metadata": {},
     "output_type": "execute_result"
    }
   ],
   "source": [
    "def Protein_Mass(s):\n",
    "    PrtSum = 0\n",
    "    lst = list(s)\n",
    "    for l in lst:\n",
    "        if l in Monoisotopic_Mass_tb:\n",
    "            PrtSum += Monoisotopic_Mass_tb[l]\n",
    "    return round(PrtSum,3)\n",
    "\n",
    "\n",
    "Protein_Mass('SKADYEK')"
   ]
  },
  {
   "cell_type": "code",
   "execution_count": null,
   "metadata": {},
   "outputs": [],
   "source": []
  }
 ],
 "metadata": {
  "kernelspec": {
   "display_name": "Python 3",
   "language": "python",
   "name": "python3"
  },
  "language_info": {
   "codemirror_mode": {
    "name": "ipython",
    "version": 3
   },
   "file_extension": ".py",
   "mimetype": "text/x-python",
   "name": "python",
   "nbconvert_exporter": "python",
   "pygments_lexer": "ipython3",
   "version": "3.7.3"
  }
 },
 "nbformat": 4,
 "nbformat_minor": 2
}
