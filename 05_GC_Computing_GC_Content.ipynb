{
 "cells": [
  {
   "cell_type": "markdown",
   "metadata": {},
   "source": [
    "# Computing GC Content\n",
    "\n",
    "## Problem\n",
    "\n",
    "The GC-content of a DNA string is given by the percentage of symbols in the string that are 'C' or 'G'. For example, the GC-content of \"AGCTATAG\" is 37.5%. Note that the reverse complement of any DNA string has the same GC-content.\n",
    "\n",
    "DNA strings must be labeled when they are consolidated into a database. A commonly used method of string labeling is called FASTA format. In this format, the string is introduced by a line that begins with '>', followed by some labeling information. Subsequent lines contain the string itself; the first line to begin with '>' indicates the label of the next string.\n",
    "\n",
    "In Rosalind's implementation, a string in FASTA format will be labeled by the ID \"Rosalind_xxxx\", where \"xxxx\" denotes a four-digit code between 0000 and 9999.\n",
    "\n",
    "Given: At most 10 DNA strings in FASTA format (of length at most 1 kbp each).\n",
    "\n",
    "Return: The ID of the string having the highest GC-content, followed by the GC-content of that string. Rosalind allows for a default error of 0.001 in all decimal answers unless otherwise stated; please see the note on absolute error below.\n",
    "\n",
    "### Sample Dataset\n",
    "\n",
    ">Rosalind_6404<br>\n",
    "CCTGCGGAAGATCGGCACTAGAATAGCCAGAACCGTTTCTCTGAGGCTTCCGGCCTTCCC\n",
    "TCCCACTAATAATTCTGAGG<br>\n",
    "Rosalind_5959<br>\n",
    "CCATCGGTAGCGCATCCTTAGTCCAATTAAGTCCCTATCCAGGCGCTCCGCCGAAGGTCT\n",
    "ATATCCATTTGTCAGCAGACACGC<br>\n",
    "Rosalind_0808<br>\n",
    "CCACCCTCGTGGTATGGCTAGGCATTCAGGAACCGGAGAACGCTTCAGACCAGCCCGGAC\n",
    ">TGGGAACCTGCGGGCAGTAGGTGGAAT\n",
    "### Sample Output\n",
    ">Rosalind_0808<br>\n",
    "60.919540"
   ]
  },
  {
   "cell_type": "code",
   "execution_count": 2,
   "metadata": {},
   "outputs": [
    {
     "name": "stdout",
     "output_type": "stream",
     "text": [
      "Dictionary:\n",
      "Rosalind_6404 : 53.75\n",
      "Rosalind_5959 : 53.57142857142857\n",
      "Rosalind_0808 : 60.91954022988506\n",
      "\n",
      "Max:\n",
      "Rosalind_0808\n",
      "60.9195402\n"
     ]
    }
   ],
   "source": [
    "from Bio import SeqIO\n",
    "\n",
    "RN_dict = {}\n",
    "for seq_record in SeqIO.parse(\"/home/kip/Downloads/rosalind_gc.txt\", \"fasta\"):\n",
    "    num = seq_record.seq\n",
    "    CG = num.count('C') + num.count('G')\n",
    "    ans = (CG / len(num)) * 100\n",
    "    \n",
    "    RN_dict[seq_record.id] = ans\n",
    "\n",
    "print('Dictionary:')\n",
    "for x in RN_dict:\n",
    "    print(x,':',RN_dict[x])\n",
    "\n",
    "print('\\nMax:')\n",
    "itemMaxValue = max(RN_dict.items(), key=lambda x : x[1])\n",
    "print(f'{itemMaxValue[0]}\\n{round(itemMaxValue[1],7)}')"
   ]
  },
  {
   "cell_type": "code",
   "execution_count": null,
   "metadata": {},
   "outputs": [],
   "source": []
  }
 ],
 "metadata": {
  "kernelspec": {
   "display_name": "Python 3",
   "language": "python",
   "name": "python3"
  },
  "language_info": {
   "codemirror_mode": {
    "name": "ipython",
    "version": 3
   },
   "file_extension": ".py",
   "mimetype": "text/x-python",
   "name": "python",
   "nbconvert_exporter": "python",
   "pygments_lexer": "ipython3",
   "version": "3.7.3"
  }
 },
 "nbformat": 4,
 "nbformat_minor": 2
}
