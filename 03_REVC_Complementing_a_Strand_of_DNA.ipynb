{
 "cells": [
  {
   "cell_type": "markdown",
   "metadata": {},
   "source": [
    "# Complementing a Strand of DNA\n",
    "## Problem\n",
    "\n",
    "In DNA strings, symbols 'A' and 'T' are complements of each other, as are 'C' and 'G'.\n",
    "\n",
    "The reverse complement of a DNA string s\n",
    "is the string sc formed by reversing the symbols of s\n",
    "\n",
    ", then taking the complement of each symbol (e.g., the reverse complement of \"GTCA\" is \"TGAC\").\n",
    "\n",
    "Given: A DNA string s\n",
    "\n",
    "of length at most 1000 bp.\n",
    "\n",
    "Return: The reverse complement sc\n",
    "of s\n",
    "\n",
    ".\n",
    "\n",
    "### Sample Dataset\n",
    "AAAACCCGGT\n",
    "### Sample Output\n",
    "ACCGGGTTTT"
   ]
  },
  {
   "cell_type": "code",
   "execution_count": 1,
   "metadata": {},
   "outputs": [
    {
     "name": "stdout",
     "output_type": "stream",
     "text": [
      "ACCGGGTTTT\n"
     ]
    }
   ],
   "source": [
    "s = 'AAAACCCGGT'\n",
    "sc = s[::-1]\n",
    "\n",
    "for i in sc:\n",
    "    if i == 'A':\n",
    "        sc = sc.replace('A', 'a')\n",
    "    elif i == 'C':\n",
    "        sc = sc.replace('C', 'c')\n",
    "\n",
    "for i in sc:\n",
    "    if i == 'T':\n",
    "        sc = sc.replace('T', 'A')\n",
    "    elif i == 'G':\n",
    "        sc = sc.replace('G', 'C')\n",
    "\n",
    "for i in sc:\n",
    "    if i == 'a':\n",
    "        sc = sc.replace('a', 'T')\n",
    "    elif i == 'c':\n",
    "        sc = sc.replace('c', 'G')\n",
    "print(sc)"
   ]
  },
  {
   "cell_type": "code",
   "execution_count": null,
   "metadata": {},
   "outputs": [],
   "source": []
  }
 ],
 "metadata": {
  "kernelspec": {
   "display_name": "Python 3",
   "language": "python",
   "name": "python3"
  },
  "language_info": {
   "codemirror_mode": {
    "name": "ipython",
    "version": 3
   },
   "file_extension": ".py",
   "mimetype": "text/x-python",
   "name": "python",
   "nbconvert_exporter": "python",
   "pygments_lexer": "ipython3",
   "version": "3.7.3"
  }
 },
 "nbformat": 4,
 "nbformat_minor": 2
}
