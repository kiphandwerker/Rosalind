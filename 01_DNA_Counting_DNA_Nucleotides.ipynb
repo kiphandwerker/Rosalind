{
 "cells": [
  {
   "cell_type": "markdown",
   "metadata": {},
   "source": [
    "# Counting DNA Nucleotides\n",
    "### Problem\n",
    "\n",
    "A string is simply an ordered collection of symbols selected from some alphabet and formed into a word; the length of a string is the number of symbols that it contains.\n",
    "\n",
    "An example of a length 21 DNA string (whose alphabet contains the symbols 'A', 'C', 'G', and 'T') is \"ATGCTTCAGAAAGGTCTTACG.\"\n",
    "\n",
    "Given: A DNA string s\n",
    "\n",
    "of length at most 1000 nt.\n",
    "\n",
    "Return: Four integers (separated by spaces) counting the respective number of times that the symbols 'A', 'C', 'G', and 'T' occur in s\n",
    ".\n",
    "\n",
    "### Sample Dataset\n",
    "AGCTTTTCATTCTGACTGCAACGGGCAATATGTCTCTGTGTGGATTAAAAAAAGAGTGTCTGATAGCAGC\n",
    "\n",
    "### Sample Solution\n",
    "20 12 17 21\n"
   ]
  },
  {
   "cell_type": "code",
   "execution_count": 52,
   "metadata": {},
   "outputs": [
    {
     "name": "stdout",
     "output_type": "stream",
     "text": [
      "253 226 228 256\n"
     ]
    }
   ],
   "source": [
    "s = 'GCTCTCATGACTCATTAAATGAGGCGCTGGTGAAATACATTTTGGTCACTAGCTAGCTTATATATACGTGTCCATGAACGAGAGACTTGGATAATGAGTTTCCCATATGCCGCTCGATTAACAACTTTACTATGTGTGGTATTAGTCTCGCAGTCCTCCATATACCCATAGAGTCAACCGGTCATAGTAGGTCAAGCTCTCAACCTTTAAGCCAGGGGATTATATCCCGAAACTCCTTAGTTTGTTCGCTCTGCAAGATAAAGCGCTTATTGACAAGGTGTATTGTATACGAACCGGGGGAAGGACGTTCAGAGGCCTCATAGTACAAGGAACGTGCTATTTTACTAGTTATATGTGGATTTAAAACGATAGATGCCCACCCGTGTACTGCTTCTCGAGCCACGCAGAAGAATTCTATCGCCGCCCCGCATCTTTCTCAGACCCACTTCGATTTGCTGCAGGCTAATCCGGGTTTTCAATGGGACCATTGATAGCGAGTGGATGTGAGGCCCAGCGGTCAAGGGAGCCAAAACACCGGTCAAGATTTTCGAGTGGGATTGGTTTGCCCCAAGTGTATACCATACTTTCGTTTGGAGTTTTTGCGGCAGGGTCGAGCCGTCAATTGAGCGACCGCATGCCAAGCATTTTTGCGTAGACATTTCCTCTAGGCTCTTAAGAGACGCATTTACAAGGGAAAATATACGACTCCTACTTCGGCCTAGAGGACATTCACCCCGTCTGACACTTAAAGAGTGTTAGATCGAAACAGCGTAACAATACACAACGATTACGCCGAGTCTACGTGATACGGAATGTTGCCTGAGAGGAGGATTCCCCTACGTGCGGGTGTTAATCCTTGAAGGTCCAGGATGATGATGACGAAACCAGACTGATCGTGACAACGCTACAGGTCCCTATCTCTGACCGATCAAGTCCCCGGGATTGTCCATCGAACTACGATTT'\n",
    "A=G=T=C=0\n",
    "for i in s:\n",
    "    if i == 'A':\n",
    "        A += 1\n",
    "    elif i == 'G':\n",
    "        G += 1\n",
    "    elif i == 'C':\n",
    "        C += 1\n",
    "    else:\n",
    "        T +=1\n",
    "        \n",
    "print(f'{A} {C} {G} {T}')"
   ]
  },
  {
   "cell_type": "code",
   "execution_count": 50,
   "metadata": {},
   "outputs": [],
   "source": [
    "# data = 'AGCTTTTCATTCTGACTGCAACGGGCAATATGTCTCTGTGTGGATTAAAAAAAGAGTGTCTGATAGCAGC'\n",
    "# DNA = {'A': 0, 'C': 0, 'G': 0, 'T': 0}\n",
    "\n",
    "# for i in data:\n",
    "#     if i == 'A':\n",
    "#         DNA['A'] += 1\n",
    "#     elif i == 'C':\n",
    "#         DNA['C'] += 1\n",
    "#     elif i == 'G':\n",
    "#         DNA['G'] += 1\n",
    "#     else:\n",
    "#         DNA['T'] += 1\n",
    "# DNA"
   ]
  },
  {
   "cell_type": "code",
   "execution_count": null,
   "metadata": {},
   "outputs": [],
   "source": []
  }
 ],
 "metadata": {
  "kernelspec": {
   "display_name": "Python 3",
   "language": "python",
   "name": "python3"
  },
  "language_info": {
   "codemirror_mode": {
    "name": "ipython",
    "version": 3
   },
   "file_extension": ".py",
   "mimetype": "text/x-python",
   "name": "python",
   "nbconvert_exporter": "python",
   "pygments_lexer": "ipython3",
   "version": "3.7.3"
  }
 },
 "nbformat": 4,
 "nbformat_minor": 2
}
