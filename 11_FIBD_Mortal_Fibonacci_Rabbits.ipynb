{
 "cells": [
  {
   "cell_type": "markdown",
   "metadata": {},
   "source": [
    "# Mortal Fibonacci Rabbits\n",
    "## Problem\n",
    "\n",
    "Recall the definition of the Fibonacci numbers from “Rabbits and Recurrence Relations”, which followed the recurrence relation Fn=Fn−1+Fn−2\n",
    "\n",
    "and assumed that each pair of rabbits reaches maturity in one month and produces a single pair of offspring (one male, one female) each subsequent month.\n",
    "\n",
    "Our aim is to somehow modify this recurrence relation to achieve a dynamic programming solution in the case that all rabbits die out after a fixed number of months. See Figure 4 for a depiction of a rabbit tree in which rabbits live for three months (meaning that they reproduce only twice before dying).\n",
    "\n",
    "Given: Positive integers n≤100 and m≤20\n",
    "\n",
    ".\n",
    "\n",
    "Return: The total number of pairs of rabbits that will remain after the n -th month if all rabbits live for m\n",
    "\n",
    "months.\n",
    "### Sample Dataset\n",
    "\n",
    "6 3\n",
    "### Sample Output\n",
    "\n",
    "4\n",
    "\n"
   ]
  },
  {
   "cell_type": "code",
   "execution_count": 3,
   "metadata": {},
   "outputs": [
    {
     "data": {
      "text/plain": [
       "4"
      ]
     },
     "execution_count": 3,
     "metadata": {},
     "output_type": "execute_result"
    }
   ],
   "source": [
    "def mortal_bunnies(n,m):\n",
    "    # n == pairs of bunnies\n",
    "    # m == months lived\n",
    "    table = []\n",
    "    for i in range(n):\n",
    "        if i < 2:\n",
    "            table.append(1)\n",
    "        elif i < m:\n",
    "            table.append(table[-2] + table[-1])\n",
    "        elif i == m or i == m+1:\n",
    "            table.append((table[-2] + table[-1]) - 1)\n",
    "        else:\n",
    "            table.append((table[-2] + table[-1]) - table[-(m+1)])\n",
    "        # print(fib_table)\n",
    "    return table\n",
    "\n",
    "bunnies = mortal_bunnies(6,3)\n",
    "\n",
    "bunnies[::-1][0]"
   ]
  },
  {
   "cell_type": "code",
   "execution_count": null,
   "metadata": {},
   "outputs": [],
   "source": []
  }
 ],
 "metadata": {
  "kernelspec": {
   "display_name": "Python 3",
   "language": "python",
   "name": "python3"
  },
  "language_info": {
   "codemirror_mode": {
    "name": "ipython",
    "version": 3
   },
   "file_extension": ".py",
   "mimetype": "text/x-python",
   "name": "python",
   "nbconvert_exporter": "python",
   "pygments_lexer": "ipython3",
   "version": "3.7.3"
  }
 },
 "nbformat": 4,
 "nbformat_minor": 2
}
