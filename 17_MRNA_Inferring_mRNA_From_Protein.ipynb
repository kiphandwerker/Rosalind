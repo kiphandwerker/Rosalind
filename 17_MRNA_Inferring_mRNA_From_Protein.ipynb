{
 "cells": [
  {
   "cell_type": "markdown",
   "metadata": {},
   "source": [
    "# Inferring mRNA from Protein\n",
    "\n",
    "## Problem\n",
    "    For positive integers a and n, a modulo n (written amodn in shorthand) is the remainder when a is divided by n. For example, 29mod11=7 because 29=11×2+7\n",
    "\n",
    "\n",
    "    Modular arithmetic is the study of addition, subtraction, multiplication, and division with respect to the modulo operation. We say that a and b are congruent modulo n if amodn=bmodn; in this case, we use the notation a≡bmodn\n",
    "\n",
    "    Two useful facts in modular arithmetic are that if a≡bmodn and c≡dmodn, then a+c≡b+dmodn and a×c≡b×dmodn. To check your understanding of these rules, you may wish to verify these relationships for a=29, b=73, c=10, d=32, and n=11\n",
    "\n",
    "    As you will see in this exercise, some Rosalind problems will ask for a (very large) integer solution modulo a smaller number to avoid the computational pitfalls that arise with storing such large numbers.\n",
    "    \n",
    "    \n",
    "### Given\n",
    "    A protein string of length at most 1000 aa\n",
    "### Return\n",
    "    The total number of different RNA strings from which the protein could have been translated, modulo 1,000,000. (Don't neglect the importance of the stop codon in protein translation.)\n",
    "    \n",
    "### Sample Dataset\n",
    ">MA\n",
    "### Sample Output\n",
    ">12"
   ]
  },
  {
   "cell_type": "code",
   "execution_count": 2,
   "metadata": {},
   "outputs": [],
   "source": [
    "RNA_codon_tb = {\n",
    "\"UUU\": \"F\",\"CUU\": \"L\",\"AUU\": \"I\",\"GUU\": \"V\",\n",
    "\"UUC\": \"F\",\"CUC\": \"L\",\"AUC\": \"I\",\"GUC\": \"V\",\n",
    "\"UUA\": \"L\",\"CUA\": \"L\",\"AUA\": \"I\",\"GUA\": \"V\",\n",
    "\"UUG\": \"L\",\"CUG\": \"L\",\"AUG\": \"M\",\"GUG\": \"V\",\n",
    "\"UCU\": \"S\",\"CCU\": \"P\",\"ACU\": \"T\",\"GCU\": \"A\",\n",
    "\"UCC\": \"S\",\"CCC\": \"P\",\"ACC\": \"T\",\"GCC\": \"A\",\n",
    "\"UCA\": \"S\",\"CCA\": \"P\",\"ACA\": \"T\",\"GCA\": \"A\",\n",
    "\"UCG\": \"S\",\"CCG\": \"P\",\"ACG\": \"T\",\"GCG\": \"A\",\n",
    "\"UAU\": \"Y\",\"CAU\": \"H\",\"AAU\": \"N\",\"GAU\": \"D\",\n",
    "\"UAC\": \"Y\",\"CAC\": \"H\",\"AAC\": \"N\",\"GAC\": \"D\",\n",
    "\"UAA\": \"Stop\",\"CAA\": \"Q\",\"AAA\": \"K\",\"GAA\": \"E\",\n",
    "\"UAG\": \"Stop\",\"CAG\": \"Q\",\"AAG\": \"K\",\"GAG\": \"E\",\n",
    "\"UGU\": \"C\",\"CGU\": \"R\",\"AGU\": \"S\",\"GGU\": \"G\",\n",
    "\"UGC\": \"C\",\"CGC\": \"R\",\"AGC\": \"S\",\"GGC\": \"G\",\n",
    "\"UGA\": \"Stop\",\"CGA\": \"R\",\"AGA\": \"R\",\"GGA\": \"G\",\n",
    "\"UGG\": \"W\",\"CGG\": \"R\",\"AGG\": \"R\",\"GGG\": \"G\" }"
   ]
  },
  {
   "cell_type": "code",
   "execution_count": 15,
   "metadata": {},
   "outputs": [
    {
     "name": "stdout",
     "output_type": "stream",
     "text": [
      "12\n"
     ]
    }
   ],
   "source": [
    " def codon_frequence():                                         \n",
    "    frequence = {}                                             \n",
    "    for k, v in RNA_codon_tb.items():                                \n",
    "        if v not in frequence:                                 \n",
    "            frequence[v] = 0                                   \n",
    "        frequence[v] += 1                                      \n",
    "    return (frequence)                                         \n",
    "\n",
    "\n",
    "def MRNA(s):                              \n",
    "    f = codon_frequence()                                      \n",
    "    n = f['Stop']                                              \n",
    "    for aa in s:                                        \n",
    "        n *= f[aa]                                             \n",
    "    return (n % 1000000)                                       \n",
    "\n",
    "print(MRNA('MA'))  "
   ]
  },
  {
   "cell_type": "code",
   "execution_count": null,
   "metadata": {},
   "outputs": [],
   "source": []
  }
 ],
 "metadata": {
  "kernelspec": {
   "display_name": "Python 3",
   "language": "python",
   "name": "python3"
  },
  "language_info": {
   "codemirror_mode": {
    "name": "ipython",
    "version": 3
   },
   "file_extension": ".py",
   "mimetype": "text/x-python",
   "name": "python",
   "nbconvert_exporter": "python",
   "pygments_lexer": "ipython3",
   "version": "3.7.3"
  }
 },
 "nbformat": 4,
 "nbformat_minor": 2
}
