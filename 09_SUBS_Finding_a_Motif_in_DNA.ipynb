{
 "cells": [
  {
   "cell_type": "markdown",
   "metadata": {},
   "source": [
    "# Finding a Motif in DNA\n",
    "\n",
    "## Problem\n",
    "\n",
    "Given two strings s\n",
    "and t, t is a substring of s if t is contained as a contiguous collection of symbols in s (as a result, t must be no longer than s\n",
    "\n",
    ").\n",
    "\n",
    "The position of a symbol in a string is the total number of symbols found to its left, including itself (e.g., the positions of all occurrences of 'U' in \"AUGCUUCAGAAAGGUCUUACG\" are 2, 5, 6, 15, 17, and 18). The symbol at position i\n",
    "of s is denoted by s[i]\n",
    "\n",
    ".\n",
    "\n",
    "A substring of s\n",
    "can be represented as s[j:k], where j and k represent the starting and ending positions of the substring in s; for example, if s = \"AUGCUUCAGAAAGGUCUUACG\", then s[2:5]\n",
    "\n",
    "= \"UGCU\".\n",
    "\n",
    "The location of a substring s[j:k]\n",
    "is its beginning position j; note that t will have multiple locations in s if it occurs more than once as a substring of s\n",
    "\n",
    "(see the Sample below).\n",
    "\n",
    "Given: Two DNA strings s\n",
    "and t\n",
    "\n",
    "(each of length at most 1 kbp).\n",
    "\n",
    "Return: All locations of t\n",
    "as a substring of s\n",
    "\n",
    ".\n",
    "### Sample Dataset\n",
    "GATATATGCATATACTT<br>\n",
    "ATAT\n",
    "### Sample Output\n",
    "2 4 10"
   ]
  },
  {
   "cell_type": "code",
   "execution_count": 1,
   "metadata": {},
   "outputs": [
    {
     "data": {
      "text/plain": [
       "[2, 4, 10]"
      ]
     },
     "execution_count": 1,
     "metadata": {},
     "output_type": "execute_result"
    }
   ],
   "source": [
    "import Bio\n",
    "from Bio import motifs \n",
    "from Bio.Seq import Seq\n",
    "\n",
    "s = 'GATATATGCATATACTT'\n",
    "t = 'ATAT'\n",
    "\n",
    "\n",
    "def find_motif(s,t):\n",
    "    instances = [Seq(t)] \n",
    "    m = motifs.create(instances)\n",
    "\n",
    "    seq = Seq(s, Bio.Alphabet.IUPAC.unambiguous_dna)\n",
    "    \n",
    "    #print(f'Raw sequence: {seq}')\n",
    "    #print(f'Motif: {m}')\n",
    "    \n",
    "    locations = []\n",
    "    for pos in m.instances.search(seq):\n",
    "        locations.append(pos[0]+1)\n",
    "    return locations\n",
    "\n",
    "find_motif(s,t)"
   ]
  },
  {
   "cell_type": "code",
   "execution_count": null,
   "metadata": {},
   "outputs": [],
   "source": []
  }
 ],
 "metadata": {
  "kernelspec": {
   "display_name": "Python 3",
   "language": "python",
   "name": "python3"
  },
  "language_info": {
   "codemirror_mode": {
    "name": "ipython",
    "version": 3
   },
   "file_extension": ".py",
   "mimetype": "text/x-python",
   "name": "python",
   "nbconvert_exporter": "python",
   "pygments_lexer": "ipython3",
   "version": "3.7.3"
  }
 },
 "nbformat": 4,
 "nbformat_minor": 2
}
