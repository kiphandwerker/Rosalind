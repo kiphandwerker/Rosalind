{
 "cells": [
  {
   "cell_type": "markdown",
   "metadata": {},
   "source": [
    "# Translating RNA into Protein\n",
    "## Problem\n",
    "\n",
    "The 20 commonly occurring amino acids are abbreviated by using 20 letters from the English alphabet (all letters except for B, J, O, U, X, and Z). Protein strings are constructed from these 20 symbols. Henceforth, the term genetic string will incorporate protein strings along with DNA strings and RNA strings.\n",
    "\n",
    "The RNA codon table dictates the details regarding the encoding of specific codons into the amino acid alphabet.\n",
    "\n",
    "Given: An RNA string s\n",
    "\n",
    "corresponding to a strand of mRNA (of length at most 10 kbp).\n",
    "\n",
    "Return: The protein string encoded by s\n",
    ".\n",
    "\n",
    "### Sample Dataset\n",
    "AUGGCCAUGGCGCCCAGAACUGAGAUCAAUAGUACCCGUAUUAACGGGUGA\n",
    "### Sample Output\n",
    "MAMAPRTEINSTRING"
   ]
  },
  {
   "cell_type": "code",
   "execution_count": 1,
   "metadata": {},
   "outputs": [],
   "source": [
    "Stop = '-'\n",
    "RNA_codon_tb = {\"UUU\": \"F\",\"CUU\": \"L\",\"AUU\": \"I\",\"GUU\": \"V\",\n",
    "\"UUC\": \"F\",\"CUC\": \"L\",\"AUC\": \"I\",\"GUC\": \"V\",\n",
    "\"UUA\": \"L\",\"CUA\": \"L\",\"AUA\": \"I\",\"GUA\": \"V\",\n",
    "\"UUG\": \"L\",\"CUG\": \"L\",\"AUG\": \"M\",\"GUG\": \"V\",\n",
    "\"UCU\": \"S\",\"CCU\": \"P\",\"ACU\": \"T\",\"GCU\": \"A\",\n",
    "\"UCC\": \"S\",\"CCC\": \"P\",\"ACC\": \"T\",\"GCC\": \"A\",\n",
    "\"UCA\": \"S\",\"CCA\": \"P\",\"ACA\": \"T\",\"GCA\": \"A\",\n",
    "\"UCG\": \"S\",\"CCG\": \"P\",\"ACG\": \"T\",\"GCG\": \"A\",\n",
    "\"UAU\": \"Y\",\"CAU\": \"H\",\"AAU\": \"N\",\"GAU\": \"D\",\n",
    "\"UAC\": \"Y\",\"CAC\": \"H\",\"AAC\": \"N\",\"GAC\": \"D\",\n",
    "\"UAA\": Stop,\"CAA\": \"Q\",\"AAA\": \"K\",\"GAA\": \"E\",\n",
    "\"UAG\": Stop,\"CAG\": \"Q\",\"AAG\": \"K\",\"GAG\": \"E\",\n",
    "\"UGU\": \"C\",\"CGU\": \"R\",\"AGU\": \"S\",\"GGU\": \"G\",\n",
    "\"UGC\": \"C\",\"CGC\": \"R\",\"AGC\": \"S\",\"GGC\": \"G\",\n",
    "\"UGA\": Stop,\"CGA\": \"R\",\"AGA\": \"R\",\"GGA\": \"G\",\n",
    "\"UGG\": \"W\",\"CGG\": \"R\",\"AGG\": \"R\",\"GGG\": \"G\" }"
   ]
  },
  {
   "cell_type": "code",
   "execution_count": 2,
   "metadata": {},
   "outputs": [
    {
     "data": {
      "text/plain": [
       "'MAMAPRTEINSTRING'"
      ]
     },
     "execution_count": 2,
     "metadata": {},
     "output_type": "execute_result"
    }
   ],
   "source": [
    "s = 'AUGGCCAUGGCGCCCAGAACUGAGAUCAAUAGUACCCGUAUUAACGGGUGA'\n",
    "\n",
    "def RNA_to_Protein(seq, dictionary):\n",
    "    list_seq = list(map(''.join, zip(*[iter(seq)]*3)))\n",
    "    Protein_seq = []\n",
    "    for i in range(0,len(list_seq)):\n",
    "        s = dictionary[list_seq[i]]\n",
    "        Protein_seq.append(s)\n",
    "        if s == Stop:\n",
    "            del Protein_seq[-1]\n",
    "            break\n",
    "    return ''.join(Protein_seq)\n",
    "\n",
    "RNA_to_Protein(s, RNA_codon_tb)"
   ]
  },
  {
   "cell_type": "code",
   "execution_count": null,
   "metadata": {},
   "outputs": [],
   "source": []
  }
 ],
 "metadata": {
  "kernelspec": {
   "display_name": "Python 3",
   "language": "python",
   "name": "python3"
  },
  "language_info": {
   "codemirror_mode": {
    "name": "ipython",
    "version": 3
   },
   "file_extension": ".py",
   "mimetype": "text/x-python",
   "name": "python",
   "nbconvert_exporter": "python",
   "pygments_lexer": "ipython3",
   "version": "3.7.3"
  }
 },
 "nbformat": 4,
 "nbformat_minor": 2
}
