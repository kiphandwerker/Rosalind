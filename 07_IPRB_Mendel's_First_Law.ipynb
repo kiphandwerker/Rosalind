{
 "cells": [
  {
   "cell_type": "markdown",
   "metadata": {},
   "source": [
    "# Mendel's First Law\n",
    "\n",
    "## Problem\n",
    "Figure 2. The probability of any outcome (leaf) in a probability tree diagram is given by the product of probabilities from the start of the tree to the outcome. For example, the probability that X is blue and Y is blue is equal to (2/5)(1/4), or 1/10.\n",
    "\n",
    "Probability is the mathematical study of randomly occurring phenomena. We will model such a phenomenon with a random variable, which is simply a variable that can take a number of different distinct outcomes depending on the result of an underlying random process.\n",
    "\n",
    "For example, say that we have a bag containing 3 red balls and 2 blue balls. If we let X\n",
    "represent the random variable corresponding to the color of a drawn ball, then the probability of each of the two outcomes is given by Pr(X=red)=35 and Pr(X=blue)=25\n",
    "\n",
    ".\n",
    "\n",
    "Random variables can be combined to yield new random variables. Returning to the ball example, let Y\n",
    "model the color of a second ball drawn from the bag (without replacing the first ball). The probability of Y being red depends on whether the first ball was red or blue. To represent all outcomes of X and Y, we therefore use a probability tree diagram. This branching diagram represents all possible individual probabilities for X and Y\n",
    "\n",
    ", with outcomes at the endpoints (\"leaves\") of the tree. The probability of any outcome is given by the product of probabilities along the path from the beginning of the tree; see Figure 2 for an illustrative example.\n",
    "\n",
    "An event is simply a collection of outcomes. Because outcomes are distinct, the probability of an event can be written as the sum of the probabilities of its constituent outcomes. For our colored ball example, let A\n",
    "be the event \"Y is blue.\" Pr(A) is equal to the sum of the probabilities of two different outcomes: Pr(X=blue and Y=blue)+Pr(X=red and Y=blue), or 3/10+1/10=2/5 (see Figure 2 above).\n",
    "\n",
    "Given: Three positive integers k, m, and n, representing a population containing k+m+n organisms: k individuals are homozygous dominant for a factor, m are heterozygous, and n\n",
    "\n",
    "are homozygous recessive.\n",
    "\n",
    "Return: The probability that two randomly selected mating organisms will produce an individual possessing a dominant allele (and thus displaying the dominant phenotype). Assume that any two organisms can mate.\n",
    "\n",
    "### Sample Dataset\n",
    "2 2 2\n",
    "### Sample Output\n",
    "0.78333"
   ]
  },
  {
   "cell_type": "code",
   "execution_count": 1,
   "metadata": {},
   "outputs": [],
   "source": [
    "def prob_dom(k,m,n):\n",
    "    k,m,n = map(float, (k,m,n))\n",
    "    t = k+m+n # Total\n",
    "    \n",
    "    # Probability of k,m,n\n",
    "    pk = k/t\n",
    "    pm = m/t\n",
    "    pn = n/t\n",
    "\n",
    "    # Max probability\n",
    "    probability = 1\n",
    "\n",
    "    # subtract probability if both homozygous recessive\n",
    "    probability -= pn*((n-1)/(t-1))\n",
    "\n",
    "    # subtract prob if one homozygous recessive & one heterozygous recessive\n",
    "    # double because two scenarios (e.g. Aa * aa & aa * Aa)\n",
    "    probability -= 2*pn*(m/(t-1))*0.5\n",
    "\n",
    "    # subtract prob if both heterozygous recessive\n",
    "    probability -= pm*((m-1)/(t-1))*0.25\n",
    "\n",
    "    return probability"
   ]
  },
  {
   "cell_type": "code",
   "execution_count": 3,
   "metadata": {},
   "outputs": [
    {
     "data": {
      "text/plain": [
       "0.7833333333333333"
      ]
     },
     "execution_count": 3,
     "metadata": {},
     "output_type": "execute_result"
    }
   ],
   "source": [
    "prob_dom(2, 2, 2)"
   ]
  },
  {
   "cell_type": "code",
   "execution_count": null,
   "metadata": {},
   "outputs": [],
   "source": []
  }
 ],
 "metadata": {
  "kernelspec": {
   "display_name": "Python 3",
   "language": "python",
   "name": "python3"
  },
  "language_info": {
   "codemirror_mode": {
    "name": "ipython",
    "version": 3
   },
   "file_extension": ".py",
   "mimetype": "text/x-python",
   "name": "python",
   "nbconvert_exporter": "python",
   "pygments_lexer": "ipython3",
   "version": "3.7.3"
  }
 },
 "nbformat": 4,
 "nbformat_minor": 2
}
